{
 "cells": [
  {
   "cell_type": "code",
   "execution_count": 1,
   "metadata": {},
   "outputs": [],
   "source": [
    "from hashlib import sha256"
   ]
  },
  {
   "cell_type": "code",
   "execution_count": 2,
   "metadata": {},
   "outputs": [],
   "source": [
    "class block(object):\n",
    "    def __init__(self, parent, transactions):\n",
    "        self._parent = parent\n",
    "        self._transactions = transactions\n",
    "        self._nonce = None\n",
    "        self._nonce_len = 8\n",
    "        self._block_hash = None\n",
    "        \n",
    "    def do_work(self, N):\n",
    "        ''' find nonce that results in block hash with N leading zeros '''\n",
    "        # init nonce at zero:\n",
    "        self._nonce = 0\n",
    "        while not self.check_work(N):\n",
    "            self._nonce += 1\n",
    "        self._block_hash = self.calc_block_hash()\n",
    "    \n",
    "    def decode_nonce(self, nonce):\n",
    "        ''' converts int representation of given nonce to str form using lowercase alphabet '''\n",
    "        K = 26 # number of letters in alphabet\n",
    "        offset = 97 # where the alphabet starts in utf-8\n",
    "        xs = [nonce % K]\n",
    "        r = nonce // K\n",
    "        while r > 0:\n",
    "            xs.append(r % K)\n",
    "            r = r // K\n",
    "        return bytes(xs).decode('utf-8')\n",
    "    \n",
    "    def decode_nonce_utf8(self, nonce):\n",
    "        return decode_nonce(nonce).encode('utf-8')\n",
    "        \n",
    "    def check_work(self, N):\n",
    "        ''' recalculate block hash, check it has desired number of leading zeros '''\n",
    "        h = self.calc_block_hash()\n",
    "        #target_len = len(sha256(''.encode('utf-8')).hexdigest())\n",
    "        return all([x=='0' for x in list(h[:N])])\n",
    "    \n",
    "    def calc_block_hash(self):\n",
    "        ''' calculate block hash '''\n",
    "        t = ','.join(self._transactions) + '-' + self._parent.get_block_hash() + '-' + self.decode_nonce(self._nonce)\n",
    "        return sha256(t.encode('utf-8')).hexdigest()\n",
    "    \n",
    "    def get_block_hash(self):\n",
    "        return self._block_hash\n",
    "    \n",
    "    def len_chain(self):\n",
    "        # count how many ancestors this block has:\n",
    "        if self._parent is None:\n",
    "            return 1\n",
    "        return 1 + self._parent.len_chain()"
   ]
  },
  {
   "cell_type": "code",
   "execution_count": 3,
   "metadata": {},
   "outputs": [
    {
     "name": "stdout",
     "output_type": "stream",
     "text": [
      "check b1 work: True\n",
      "b1 is of length 2\n",
      "check b2 work: True\n",
      "b2 is of length 3\n",
      "check b3 work: True\n",
      "b3 is of length 4\n"
     ]
    }
   ],
   "source": [
    "N = 5 # difficulty in creating proof of work\n",
    "\n",
    "b0 = block(None, []) # initial hash is a dummy root node\n",
    "b0._block_hash = sha256(''.encode('utf-8')).hexdigest()\n",
    "\n",
    "b1 = block(b0, ['help'])\n",
    "b1.do_work(N)\n",
    "print('check b1 work:', b1.check_work(N))\n",
    "print('b1 is of length', b1.len_chain())\n",
    "\n",
    "b2 = block(b1, ['help', 'yesterday'])\n",
    "b2.do_work(N)\n",
    "print('check b2 work:', b2.check_work(N))\n",
    "print('b2 is of length', b2.len_chain())\n",
    "\n",
    "b3 = block(b2, ['help', 'yesterday', 'revolution'])\n",
    "b3.do_work(N)\n",
    "print('check b3 work:', b3.check_work(N))\n",
    "print('b3 is of length', b3.len_chain())"
   ]
  },
  {
   "cell_type": "code",
   "execution_count": 4,
   "metadata": {},
   "outputs": [
    {
     "data": {
      "text/plain": [
       "['e3b0c44298fc1c149afbf4c8996fb92427ae41e4649b934ca495991b7852b855',\n",
       " '000008d7dde1692654c4fa7a7d4779fe2b4876b827a7f5539892eb4dd78908cd',\n",
       " '000002bd1fdf83f9d35ccd30d3abbd290da78f9c7112b0104df0c8c846352aea',\n",
       " '00000f8360c2d0337c88629c276be7e66a849de47bf24d96abc8761fc2c1d8ee']"
      ]
     },
     "execution_count": 4,
     "metadata": {},
     "output_type": "execute_result"
    }
   ],
   "source": [
    "[b0.get_block_hash(), b1.get_block_hash(), b2.get_block_hash(), b3.get_block_hash()]"
   ]
  },
  {
   "cell_type": "markdown",
   "metadata": {},
   "source": [
    "notice the leading zeros for all but the root node!"
   ]
  }
 ],
 "metadata": {
  "kernelspec": {
   "display_name": "Python 3",
   "language": "python",
   "name": "python3"
  },
  "language_info": {
   "codemirror_mode": {
    "name": "ipython",
    "version": 3
   },
   "file_extension": ".py",
   "mimetype": "text/x-python",
   "name": "python",
   "nbconvert_exporter": "python",
   "pygments_lexer": "ipython3",
   "version": "3.6.10"
  }
 },
 "nbformat": 4,
 "nbformat_minor": 2
}
